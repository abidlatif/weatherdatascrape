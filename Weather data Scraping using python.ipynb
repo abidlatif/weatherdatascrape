{
 "cells": [
  {
   "cell_type": "code",
   "execution_count": 114,
   "metadata": {},
   "outputs": [],
   "source": [
    "import requests\n",
    "import pandas as pd"
   ]
  },
  {
   "cell_type": "code",
   "execution_count": 115,
   "metadata": {
    "scrolled": true
   },
   "outputs": [],
   "source": [
    "from bs4 import BeautifulSoup"
   ]
  },
  {
   "cell_type": "code",
   "execution_count": 116,
   "metadata": {},
   "outputs": [],
   "source": [
    "page = requests.get('https://forecast.weather.gov/MapClick.php?lat=29.6524&lon=-95.2772#.YQa3044zbDc')"
   ]
  },
  {
   "cell_type": "code",
   "execution_count": 117,
   "metadata": {},
   "outputs": [],
   "source": [
    "soup = BeautifulSoup(page.content, 'html.parser')"
   ]
  },
  {
   "cell_type": "code",
   "execution_count": 118,
   "metadata": {},
   "outputs": [],
   "source": [
    "week = soup.find(id = 'seven-day-forecast-body')"
   ]
  },
  {
   "cell_type": "code",
   "execution_count": 119,
   "metadata": {},
   "outputs": [],
   "source": [
    "items= week.find_all(class_='tombstone-container')    "
   ]
  },
  {
   "cell_type": "code",
   "execution_count": 120,
   "metadata": {},
   "outputs": [
    {
     "name": "stdout",
     "output_type": "stream",
     "text": [
      "Today\n",
      "ChanceShowers\n",
      "High: 96 °F\n"
     ]
    }
   ],
   "source": [
    "print(items[0].find(class_='period-name').get_text())\n",
    "print(items[0].find(class_='short-desc').get_text())\n",
    "print(items[0].find(class_='temp').get_text())"
   ]
  },
  {
   "cell_type": "code",
   "execution_count": 121,
   "metadata": {},
   "outputs": [],
   "source": [
    "period_names= [item.find(class_='period-name').get_text() for item in items]\n",
    "desc_names= [item.find(class_='short-desc').get_text() for item in items]\n",
    "tempraturs= [item.find(class_='temp').get_text() for item in items]"
   ]
  },
  {
   "cell_type": "code",
   "execution_count": 122,
   "metadata": {},
   "outputs": [
    {
     "name": "stdout",
     "output_type": "stream",
     "text": [
      "['Today', 'Tonight', 'Monday', 'MondayNight', 'Tuesday', 'TuesdayNight', 'Wednesday', 'WednesdayNight', 'Thursday']\n",
      "['ChanceShowers', 'Slight ChanceT-storms', 'ShowersLikely', 'ShowersLikely', 'T-stormsLikely', 'ChanceT-storms', 'ChanceT-storms', 'Slight ChanceT-storms', 'ChanceT-storms']\n",
      "['High: 96 °F', 'Low: 79 °F', 'High: 96 °F', 'Low: 78 °F', 'High: 90 °F', 'Low: 77 °F', 'High: 93 °F', 'Low: 78 °F', 'High: 94 °F']\n"
     ]
    }
   ],
   "source": [
    "print(period_names)\n",
    "print(desc_names)\n",
    "print(tempraturs)"
   ]
  },
  {
   "cell_type": "code",
   "execution_count": 123,
   "metadata": {},
   "outputs": [],
   "source": [
    "weather_stuff = pd.DataFrame(\n",
    "{ \n",
    "    'periods': period_names,\n",
    "    'desc_names': desc_names,\n",
    "    'temp': tempraturs,\n",
    "})"
   ]
  },
  {
   "cell_type": "code",
   "execution_count": 112,
   "metadata": {},
   "outputs": [
    {
     "name": "stdout",
     "output_type": "stream",
     "text": [
      "          periods                       desc_names         temp\n",
      "0           Today  Mostly Cloudythen ChanceShowers  High: 76 °F\n",
      "1         Tonight                    ChanceShowers   Low: 65 °F\n",
      "2          Monday                            Sunny  High: 80 °F\n",
      "3     MondayNight                    Partly Cloudy   Low: 66 °F\n",
      "4         Tuesday                     Partly Sunny  High: 80 °F\n",
      "5    TuesdayNight                    Mostly Cloudy   Low: 66 °F\n",
      "6       Wednesday                     Partly Sunny  High: 82 °F\n",
      "7  WednesdayNight                    Mostly Cloudy   Low: 67 °F\n",
      "8        Thursday   Partly Sunnythen ChanceShowers  High: 82 °F\n"
     ]
    }
   ],
   "source": [
    "print(weather_stuff)"
   ]
  },
  {
   "cell_type": "code",
   "execution_count": 124,
   "metadata": {},
   "outputs": [],
   "source": [
    "weather_stuff.to_csv('weather1.csv')"
   ]
  },
  {
   "cell_type": "code",
   "execution_count": null,
   "metadata": {},
   "outputs": [],
   "source": [
    " "
   ]
  }
 ],
 "metadata": {
  "kernelspec": {
   "display_name": "Python 3",
   "language": "python",
   "name": "python3"
  },
  "language_info": {
   "codemirror_mode": {
    "name": "ipython",
    "version": 3
   },
   "file_extension": ".py",
   "mimetype": "text/x-python",
   "name": "python",
   "nbconvert_exporter": "python",
   "pygments_lexer": "ipython3",
   "version": "3.8.5"
  }
 },
 "nbformat": 4,
 "nbformat_minor": 4
}
